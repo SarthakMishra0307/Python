{
 "cells": [
  {
   "cell_type": "code",
   "execution_count": 60,
   "metadata": {},
   "outputs": [],
   "source": [
    "import pandas as pd"
   ]
  },
  {
   "cell_type": "code",
   "execution_count": 61,
   "metadata": {},
   "outputs": [],
   "source": [
    "student = {\n",
    "    \"Name\": [\"Ankit\", \"Ashwani\",\" Akshansh\", \"Gaurav\", \"Krish\",\" Sarthak\", \"Swakshwar\"],\n",
    "    \"Section\": [\"CH\", \"CH\", \"MP\", \"CH\", \"SS\", \"MP\", \"MP\"],\n",
    "    \"Registration_Id\": [12018329, 12016043, 12015923, 12014917, 12018275, 12018433, 12015939],\n",
    "    \"Registration_Id\": [\"12018329\", \"12016043\", \"12015923\", \"12014917\", \"12018275\", \"12018433\", \"12015939\"],\n",
    "    \"City\" : ['Fatehabad', \"Bahadurgarh\", \"Gurgaon\", \"Lucknow\", \"Jaipur\", \"Ghaziabad\", \"Kolkata\"],\n",
    "    \"State\" : [\"Harayana\", \"Harayana\", \"Harayana\", \"Uttar Pradesh\", \"Rajasthan\" ,\"Uttar Pradesh\" ,\"Kolkata\"]\n",
    "}"
   ]
  },
  {
   "cell_type": "code",
   "execution_count": 62,
   "metadata": {},
   "outputs": [],
   "source": [
    "df = pd.DataFrame(student)"
   ]
  },
  {
   "cell_type": "code",
   "execution_count": 63,
   "metadata": {},
   "outputs": [
    {
     "data": {
      "text/html": [
       "<div>\n",
       "<style scoped>\n",
       "    .dataframe tbody tr th:only-of-type {\n",
       "        vertical-align: middle;\n",
       "    }\n",
       "\n",
       "    .dataframe tbody tr th {\n",
       "        vertical-align: top;\n",
       "    }\n",
       "\n",
       "    .dataframe thead th {\n",
       "        text-align: right;\n",
       "    }\n",
       "</style>\n",
       "<table border=\"1\" class=\"dataframe\">\n",
       "  <thead>\n",
       "    <tr style=\"text-align: right;\">\n",
       "      <th></th>\n",
       "      <th>Name</th>\n",
       "      <th>Section</th>\n",
       "      <th>Registration_Id</th>\n",
       "      <th>City</th>\n",
       "      <th>State</th>\n",
       "    </tr>\n",
       "  </thead>\n",
       "  <tbody>\n",
       "    <tr>\n",
       "      <th>0</th>\n",
       "      <td>Ankit</td>\n",
       "      <td>CH</td>\n",
       "      <td>12018329</td>\n",
       "      <td>Fatehabad</td>\n",
       "      <td>Harayana</td>\n",
       "    </tr>\n",
       "    <tr>\n",
       "      <th>1</th>\n",
       "      <td>Ashwani</td>\n",
       "      <td>CH</td>\n",
       "      <td>12016043</td>\n",
       "      <td>Bahadurgarh</td>\n",
       "      <td>Harayana</td>\n",
       "    </tr>\n",
       "    <tr>\n",
       "      <th>2</th>\n",
       "      <td>Akshansh</td>\n",
       "      <td>MP</td>\n",
       "      <td>12015923</td>\n",
       "      <td>Gurgaon</td>\n",
       "      <td>Harayana</td>\n",
       "    </tr>\n",
       "    <tr>\n",
       "      <th>3</th>\n",
       "      <td>Gaurav</td>\n",
       "      <td>CH</td>\n",
       "      <td>12014917</td>\n",
       "      <td>Lucknow</td>\n",
       "      <td>Uttar Pradesh</td>\n",
       "    </tr>\n",
       "    <tr>\n",
       "      <th>4</th>\n",
       "      <td>Krish</td>\n",
       "      <td>SS</td>\n",
       "      <td>12018275</td>\n",
       "      <td>Jaipur</td>\n",
       "      <td>Rajasthan</td>\n",
       "    </tr>\n",
       "    <tr>\n",
       "      <th>5</th>\n",
       "      <td>Sarthak</td>\n",
       "      <td>MP</td>\n",
       "      <td>12018433</td>\n",
       "      <td>Ghaziabad</td>\n",
       "      <td>Uttar Pradesh</td>\n",
       "    </tr>\n",
       "    <tr>\n",
       "      <th>6</th>\n",
       "      <td>Swakshwar</td>\n",
       "      <td>MP</td>\n",
       "      <td>12015939</td>\n",
       "      <td>Kolkata</td>\n",
       "      <td>Kolkata</td>\n",
       "    </tr>\n",
       "  </tbody>\n",
       "</table>\n",
       "</div>"
      ],
      "text/plain": [
       "        Name Section Registration_Id         City          State\n",
       "0      Ankit      CH        12018329    Fatehabad       Harayana\n",
       "1    Ashwani      CH        12016043  Bahadurgarh       Harayana\n",
       "2   Akshansh      MP        12015923      Gurgaon       Harayana\n",
       "3     Gaurav      CH        12014917      Lucknow  Uttar Pradesh\n",
       "4      Krish      SS        12018275       Jaipur      Rajasthan\n",
       "5    Sarthak      MP        12018433    Ghaziabad  Uttar Pradesh\n",
       "6  Swakshwar      MP        12015939      Kolkata        Kolkata"
      ]
     },
     "execution_count": 63,
     "metadata": {},
     "output_type": "execute_result"
    }
   ],
   "source": [
    "df"
   ]
  },
  {
   "cell_type": "code",
   "execution_count": 64,
   "metadata": {},
   "outputs": [
    {
     "data": {
      "text/plain": [
       "Index(['Name', 'Section', 'Registration_Id', 'City', 'State'], dtype='object')"
      ]
     },
     "execution_count": 64,
     "metadata": {},
     "output_type": "execute_result"
    }
   ],
   "source": [
    "df.columns"
   ]
  },
  {
   "attachments": {},
   "cell_type": "markdown",
   "metadata": {},
   "source": [
    "You can edit the column names using the same command"
   ]
  },
  {
   "cell_type": "code",
   "execution_count": 65,
   "metadata": {},
   "outputs": [],
   "source": [
    "df.columns = ['Full_Name', 'Section', 'Registration_No.', 'City', 'State']"
   ]
  },
  {
   "cell_type": "code",
   "execution_count": 66,
   "metadata": {},
   "outputs": [
    {
     "data": {
      "text/html": [
       "<div>\n",
       "<style scoped>\n",
       "    .dataframe tbody tr th:only-of-type {\n",
       "        vertical-align: middle;\n",
       "    }\n",
       "\n",
       "    .dataframe tbody tr th {\n",
       "        vertical-align: top;\n",
       "    }\n",
       "\n",
       "    .dataframe thead th {\n",
       "        text-align: right;\n",
       "    }\n",
       "</style>\n",
       "<table border=\"1\" class=\"dataframe\">\n",
       "  <thead>\n",
       "    <tr style=\"text-align: right;\">\n",
       "      <th></th>\n",
       "      <th>Full_Name</th>\n",
       "      <th>Section</th>\n",
       "      <th>Registration_No.</th>\n",
       "      <th>City</th>\n",
       "      <th>State</th>\n",
       "    </tr>\n",
       "  </thead>\n",
       "  <tbody>\n",
       "    <tr>\n",
       "      <th>0</th>\n",
       "      <td>Ankit</td>\n",
       "      <td>CH</td>\n",
       "      <td>12018329</td>\n",
       "      <td>Fatehabad</td>\n",
       "      <td>Harayana</td>\n",
       "    </tr>\n",
       "    <tr>\n",
       "      <th>1</th>\n",
       "      <td>Ashwani</td>\n",
       "      <td>CH</td>\n",
       "      <td>12016043</td>\n",
       "      <td>Bahadurgarh</td>\n",
       "      <td>Harayana</td>\n",
       "    </tr>\n",
       "    <tr>\n",
       "      <th>2</th>\n",
       "      <td>Akshansh</td>\n",
       "      <td>MP</td>\n",
       "      <td>12015923</td>\n",
       "      <td>Gurgaon</td>\n",
       "      <td>Harayana</td>\n",
       "    </tr>\n",
       "    <tr>\n",
       "      <th>3</th>\n",
       "      <td>Gaurav</td>\n",
       "      <td>CH</td>\n",
       "      <td>12014917</td>\n",
       "      <td>Lucknow</td>\n",
       "      <td>Uttar Pradesh</td>\n",
       "    </tr>\n",
       "    <tr>\n",
       "      <th>4</th>\n",
       "      <td>Krish</td>\n",
       "      <td>SS</td>\n",
       "      <td>12018275</td>\n",
       "      <td>Jaipur</td>\n",
       "      <td>Rajasthan</td>\n",
       "    </tr>\n",
       "    <tr>\n",
       "      <th>5</th>\n",
       "      <td>Sarthak</td>\n",
       "      <td>MP</td>\n",
       "      <td>12018433</td>\n",
       "      <td>Ghaziabad</td>\n",
       "      <td>Uttar Pradesh</td>\n",
       "    </tr>\n",
       "    <tr>\n",
       "      <th>6</th>\n",
       "      <td>Swakshwar</td>\n",
       "      <td>MP</td>\n",
       "      <td>12015939</td>\n",
       "      <td>Kolkata</td>\n",
       "      <td>Kolkata</td>\n",
       "    </tr>\n",
       "  </tbody>\n",
       "</table>\n",
       "</div>"
      ],
      "text/plain": [
       "   Full_Name Section Registration_No.         City          State\n",
       "0      Ankit      CH         12018329    Fatehabad       Harayana\n",
       "1    Ashwani      CH         12016043  Bahadurgarh       Harayana\n",
       "2   Akshansh      MP         12015923      Gurgaon       Harayana\n",
       "3     Gaurav      CH         12014917      Lucknow  Uttar Pradesh\n",
       "4      Krish      SS         12018275       Jaipur      Rajasthan\n",
       "5    Sarthak      MP         12018433    Ghaziabad  Uttar Pradesh\n",
       "6  Swakshwar      MP         12015939      Kolkata        Kolkata"
      ]
     },
     "execution_count": 66,
     "metadata": {},
     "output_type": "execute_result"
    }
   ],
   "source": [
    "df"
   ]
  },
  {
   "cell_type": "code",
   "execution_count": 67,
   "metadata": {},
   "outputs": [
    {
     "data": {
      "text/html": [
       "<div>\n",
       "<style scoped>\n",
       "    .dataframe tbody tr th:only-of-type {\n",
       "        vertical-align: middle;\n",
       "    }\n",
       "\n",
       "    .dataframe tbody tr th {\n",
       "        vertical-align: top;\n",
       "    }\n",
       "\n",
       "    .dataframe thead th {\n",
       "        text-align: right;\n",
       "    }\n",
       "</style>\n",
       "<table border=\"1\" class=\"dataframe\">\n",
       "  <thead>\n",
       "    <tr style=\"text-align: right;\">\n",
       "      <th></th>\n",
       "      <th>FULL_NAME</th>\n",
       "      <th>SECTION</th>\n",
       "      <th>REGISTRATION_NO.</th>\n",
       "      <th>CITY</th>\n",
       "      <th>STATE</th>\n",
       "    </tr>\n",
       "  </thead>\n",
       "  <tbody>\n",
       "    <tr>\n",
       "      <th>0</th>\n",
       "      <td>Ankit</td>\n",
       "      <td>CH</td>\n",
       "      <td>12018329</td>\n",
       "      <td>Fatehabad</td>\n",
       "      <td>Harayana</td>\n",
       "    </tr>\n",
       "    <tr>\n",
       "      <th>1</th>\n",
       "      <td>Ashwani</td>\n",
       "      <td>CH</td>\n",
       "      <td>12016043</td>\n",
       "      <td>Bahadurgarh</td>\n",
       "      <td>Harayana</td>\n",
       "    </tr>\n",
       "    <tr>\n",
       "      <th>2</th>\n",
       "      <td>Akshansh</td>\n",
       "      <td>MP</td>\n",
       "      <td>12015923</td>\n",
       "      <td>Gurgaon</td>\n",
       "      <td>Harayana</td>\n",
       "    </tr>\n",
       "    <tr>\n",
       "      <th>3</th>\n",
       "      <td>Gaurav</td>\n",
       "      <td>CH</td>\n",
       "      <td>12014917</td>\n",
       "      <td>Lucknow</td>\n",
       "      <td>Uttar Pradesh</td>\n",
       "    </tr>\n",
       "    <tr>\n",
       "      <th>4</th>\n",
       "      <td>Krish</td>\n",
       "      <td>SS</td>\n",
       "      <td>12018275</td>\n",
       "      <td>Jaipur</td>\n",
       "      <td>Rajasthan</td>\n",
       "    </tr>\n",
       "    <tr>\n",
       "      <th>5</th>\n",
       "      <td>Sarthak</td>\n",
       "      <td>MP</td>\n",
       "      <td>12018433</td>\n",
       "      <td>Ghaziabad</td>\n",
       "      <td>Uttar Pradesh</td>\n",
       "    </tr>\n",
       "    <tr>\n",
       "      <th>6</th>\n",
       "      <td>Swakshwar</td>\n",
       "      <td>MP</td>\n",
       "      <td>12015939</td>\n",
       "      <td>Kolkata</td>\n",
       "      <td>Kolkata</td>\n",
       "    </tr>\n",
       "  </tbody>\n",
       "</table>\n",
       "</div>"
      ],
      "text/plain": [
       "   FULL_NAME SECTION REGISTRATION_NO.         CITY          STATE\n",
       "0      Ankit      CH         12018329    Fatehabad       Harayana\n",
       "1    Ashwani      CH         12016043  Bahadurgarh       Harayana\n",
       "2   Akshansh      MP         12015923      Gurgaon       Harayana\n",
       "3     Gaurav      CH         12014917      Lucknow  Uttar Pradesh\n",
       "4      Krish      SS         12018275       Jaipur      Rajasthan\n",
       "5    Sarthak      MP         12018433    Ghaziabad  Uttar Pradesh\n",
       "6  Swakshwar      MP         12015939      Kolkata        Kolkata"
      ]
     },
     "execution_count": 67,
     "metadata": {},
     "output_type": "execute_result"
    }
   ],
   "source": [
    " # If you want to edit some specifications, we use list comprehension\n",
    " df.columns = [x.upper() for x in df.columns]\n",
    " df"
   ]
  },
  {
   "cell_type": "code",
   "execution_count": 68,
   "metadata": {},
   "outputs": [
    {
     "data": {
      "text/html": [
       "<div>\n",
       "<style scoped>\n",
       "    .dataframe tbody tr th:only-of-type {\n",
       "        vertical-align: middle;\n",
       "    }\n",
       "\n",
       "    .dataframe tbody tr th {\n",
       "        vertical-align: top;\n",
       "    }\n",
       "\n",
       "    .dataframe thead th {\n",
       "        text-align: right;\n",
       "    }\n",
       "</style>\n",
       "<table border=\"1\" class=\"dataframe\">\n",
       "  <thead>\n",
       "    <tr style=\"text-align: right;\">\n",
       "      <th></th>\n",
       "      <th>FULL NAME</th>\n",
       "      <th>SECTION</th>\n",
       "      <th>REGISTRATION NO.</th>\n",
       "      <th>CITY</th>\n",
       "      <th>STATE</th>\n",
       "    </tr>\n",
       "  </thead>\n",
       "  <tbody>\n",
       "    <tr>\n",
       "      <th>0</th>\n",
       "      <td>Ankit</td>\n",
       "      <td>CH</td>\n",
       "      <td>12018329</td>\n",
       "      <td>Fatehabad</td>\n",
       "      <td>Harayana</td>\n",
       "    </tr>\n",
       "    <tr>\n",
       "      <th>1</th>\n",
       "      <td>Ashwani</td>\n",
       "      <td>CH</td>\n",
       "      <td>12016043</td>\n",
       "      <td>Bahadurgarh</td>\n",
       "      <td>Harayana</td>\n",
       "    </tr>\n",
       "    <tr>\n",
       "      <th>2</th>\n",
       "      <td>Akshansh</td>\n",
       "      <td>MP</td>\n",
       "      <td>12015923</td>\n",
       "      <td>Gurgaon</td>\n",
       "      <td>Harayana</td>\n",
       "    </tr>\n",
       "    <tr>\n",
       "      <th>3</th>\n",
       "      <td>Gaurav</td>\n",
       "      <td>CH</td>\n",
       "      <td>12014917</td>\n",
       "      <td>Lucknow</td>\n",
       "      <td>Uttar Pradesh</td>\n",
       "    </tr>\n",
       "    <tr>\n",
       "      <th>4</th>\n",
       "      <td>Krish</td>\n",
       "      <td>SS</td>\n",
       "      <td>12018275</td>\n",
       "      <td>Jaipur</td>\n",
       "      <td>Rajasthan</td>\n",
       "    </tr>\n",
       "    <tr>\n",
       "      <th>5</th>\n",
       "      <td>Sarthak</td>\n",
       "      <td>MP</td>\n",
       "      <td>12018433</td>\n",
       "      <td>Ghaziabad</td>\n",
       "      <td>Uttar Pradesh</td>\n",
       "    </tr>\n",
       "    <tr>\n",
       "      <th>6</th>\n",
       "      <td>Swakshwar</td>\n",
       "      <td>MP</td>\n",
       "      <td>12015939</td>\n",
       "      <td>Kolkata</td>\n",
       "      <td>Kolkata</td>\n",
       "    </tr>\n",
       "  </tbody>\n",
       "</table>\n",
       "</div>"
      ],
      "text/plain": [
       "   FULL NAME SECTION REGISTRATION NO.         CITY          STATE\n",
       "0      Ankit      CH         12018329    Fatehabad       Harayana\n",
       "1    Ashwani      CH         12016043  Bahadurgarh       Harayana\n",
       "2   Akshansh      MP         12015923      Gurgaon       Harayana\n",
       "3     Gaurav      CH         12014917      Lucknow  Uttar Pradesh\n",
       "4      Krish      SS         12018275       Jaipur      Rajasthan\n",
       "5    Sarthak      MP         12018433    Ghaziabad  Uttar Pradesh\n",
       "6  Swakshwar      MP         12015939      Kolkata        Kolkata"
      ]
     },
     "execution_count": 68,
     "metadata": {},
     "output_type": "execute_result"
    }
   ],
   "source": [
    "df.columns = df.columns.str.replace('_',' ')\n",
    "df"
   ]
  },
  {
   "cell_type": "code",
   "execution_count": 69,
   "metadata": {},
   "outputs": [],
   "source": [
    "df.rename(columns={'FULL NAME': 'NAME', 'REGISTRATION NO.': 'REGISTRATION_NO'}, inplace=True)\n",
    "#  inplace required for the rename method"
   ]
  },
  {
   "cell_type": "code",
   "execution_count": 70,
   "metadata": {},
   "outputs": [
    {
     "data": {
      "text/html": [
       "<div>\n",
       "<style scoped>\n",
       "    .dataframe tbody tr th:only-of-type {\n",
       "        vertical-align: middle;\n",
       "    }\n",
       "\n",
       "    .dataframe tbody tr th {\n",
       "        vertical-align: top;\n",
       "    }\n",
       "\n",
       "    .dataframe thead th {\n",
       "        text-align: right;\n",
       "    }\n",
       "</style>\n",
       "<table border=\"1\" class=\"dataframe\">\n",
       "  <thead>\n",
       "    <tr style=\"text-align: right;\">\n",
       "      <th></th>\n",
       "      <th>NAME</th>\n",
       "      <th>SECTION</th>\n",
       "      <th>REGISTRATION_NO</th>\n",
       "      <th>CITY</th>\n",
       "      <th>STATE</th>\n",
       "    </tr>\n",
       "  </thead>\n",
       "  <tbody>\n",
       "    <tr>\n",
       "      <th>0</th>\n",
       "      <td>Ankit</td>\n",
       "      <td>CH</td>\n",
       "      <td>12018329</td>\n",
       "      <td>Fatehabad</td>\n",
       "      <td>Harayana</td>\n",
       "    </tr>\n",
       "    <tr>\n",
       "      <th>1</th>\n",
       "      <td>Ashwani</td>\n",
       "      <td>CH</td>\n",
       "      <td>12016043</td>\n",
       "      <td>Bahadurgarh</td>\n",
       "      <td>Harayana</td>\n",
       "    </tr>\n",
       "    <tr>\n",
       "      <th>2</th>\n",
       "      <td>Akshansh</td>\n",
       "      <td>MP</td>\n",
       "      <td>12015923</td>\n",
       "      <td>Gurgaon</td>\n",
       "      <td>Harayana</td>\n",
       "    </tr>\n",
       "    <tr>\n",
       "      <th>3</th>\n",
       "      <td>Gaurav</td>\n",
       "      <td>CH</td>\n",
       "      <td>12014917</td>\n",
       "      <td>Lucknow</td>\n",
       "      <td>Uttar Pradesh</td>\n",
       "    </tr>\n",
       "    <tr>\n",
       "      <th>4</th>\n",
       "      <td>Krish</td>\n",
       "      <td>SS</td>\n",
       "      <td>12018275</td>\n",
       "      <td>Jaipur</td>\n",
       "      <td>Rajasthan</td>\n",
       "    </tr>\n",
       "    <tr>\n",
       "      <th>5</th>\n",
       "      <td>Sarthak</td>\n",
       "      <td>MP</td>\n",
       "      <td>12018433</td>\n",
       "      <td>Ghaziabad</td>\n",
       "      <td>Uttar Pradesh</td>\n",
       "    </tr>\n",
       "    <tr>\n",
       "      <th>6</th>\n",
       "      <td>Swakshwar</td>\n",
       "      <td>MP</td>\n",
       "      <td>12015939</td>\n",
       "      <td>Kolkata</td>\n",
       "      <td>Kolkata</td>\n",
       "    </tr>\n",
       "  </tbody>\n",
       "</table>\n",
       "</div>"
      ],
      "text/plain": [
       "        NAME SECTION REGISTRATION_NO         CITY          STATE\n",
       "0      Ankit      CH        12018329    Fatehabad       Harayana\n",
       "1    Ashwani      CH        12016043  Bahadurgarh       Harayana\n",
       "2   Akshansh      MP        12015923      Gurgaon       Harayana\n",
       "3     Gaurav      CH        12014917      Lucknow  Uttar Pradesh\n",
       "4      Krish      SS        12018275       Jaipur      Rajasthan\n",
       "5    Sarthak      MP        12018433    Ghaziabad  Uttar Pradesh\n",
       "6  Swakshwar      MP        12015939      Kolkata        Kolkata"
      ]
     },
     "execution_count": 70,
     "metadata": {},
     "output_type": "execute_result"
    }
   ],
   "source": [
    "df"
   ]
  },
  {
   "attachments": {},
   "cell_type": "markdown",
   "metadata": {},
   "source": [
    "#### Editing value in rows"
   ]
  },
  {
   "cell_type": "code",
   "execution_count": 71,
   "metadata": {},
   "outputs": [],
   "source": [
    "df.loc[6] = ['Gyan', 'SS', '12017829', 'Varanasi' ,'Uttar Pradesh']"
   ]
  },
  {
   "attachments": {},
   "cell_type": "markdown",
   "metadata": {},
   "source": [
    "##### But it is not efficient since we have to change all the values of the row, What if someone wants to change specific columns only...\n",
    "\n",
    "##### (Incase when the dataset have enormous amount of columns)"
   ]
  },
  {
   "cell_type": "code",
   "execution_count": 72,
   "metadata": {},
   "outputs": [
    {
     "data": {
      "text/html": [
       "<div>\n",
       "<style scoped>\n",
       "    .dataframe tbody tr th:only-of-type {\n",
       "        vertical-align: middle;\n",
       "    }\n",
       "\n",
       "    .dataframe tbody tr th {\n",
       "        vertical-align: top;\n",
       "    }\n",
       "\n",
       "    .dataframe thead th {\n",
       "        text-align: right;\n",
       "    }\n",
       "</style>\n",
       "<table border=\"1\" class=\"dataframe\">\n",
       "  <thead>\n",
       "    <tr style=\"text-align: right;\">\n",
       "      <th></th>\n",
       "      <th>NAME</th>\n",
       "      <th>SECTION</th>\n",
       "      <th>REGISTRATION_NO</th>\n",
       "      <th>CITY</th>\n",
       "      <th>STATE</th>\n",
       "    </tr>\n",
       "  </thead>\n",
       "  <tbody>\n",
       "    <tr>\n",
       "      <th>0</th>\n",
       "      <td>Ankit</td>\n",
       "      <td>CH</td>\n",
       "      <td>12018329</td>\n",
       "      <td>Fatehabad</td>\n",
       "      <td>Harayana</td>\n",
       "    </tr>\n",
       "    <tr>\n",
       "      <th>1</th>\n",
       "      <td>Ashwani</td>\n",
       "      <td>CH</td>\n",
       "      <td>12016043</td>\n",
       "      <td>Bahadurgarh</td>\n",
       "      <td>Harayana</td>\n",
       "    </tr>\n",
       "    <tr>\n",
       "      <th>2</th>\n",
       "      <td>Akshansh</td>\n",
       "      <td>MP</td>\n",
       "      <td>12015923</td>\n",
       "      <td>Gurugram</td>\n",
       "      <td>DeLhi-NCR</td>\n",
       "    </tr>\n",
       "    <tr>\n",
       "      <th>3</th>\n",
       "      <td>Gaurav</td>\n",
       "      <td>CH</td>\n",
       "      <td>12014917</td>\n",
       "      <td>Lucknow</td>\n",
       "      <td>Uttar Pradesh</td>\n",
       "    </tr>\n",
       "    <tr>\n",
       "      <th>4</th>\n",
       "      <td>Krish</td>\n",
       "      <td>SS</td>\n",
       "      <td>12018275</td>\n",
       "      <td>Jaipur</td>\n",
       "      <td>Rajasthan</td>\n",
       "    </tr>\n",
       "    <tr>\n",
       "      <th>5</th>\n",
       "      <td>Sarthak</td>\n",
       "      <td>MP</td>\n",
       "      <td>12018433</td>\n",
       "      <td>Ghaziabad</td>\n",
       "      <td>Uttar Pradesh</td>\n",
       "    </tr>\n",
       "    <tr>\n",
       "      <th>6</th>\n",
       "      <td>Gyan</td>\n",
       "      <td>SS</td>\n",
       "      <td>12017829</td>\n",
       "      <td>Varanasi</td>\n",
       "      <td>Uttar Pradesh</td>\n",
       "    </tr>\n",
       "  </tbody>\n",
       "</table>\n",
       "</div>"
      ],
      "text/plain": [
       "        NAME SECTION REGISTRATION_NO         CITY          STATE\n",
       "0      Ankit      CH        12018329    Fatehabad       Harayana\n",
       "1    Ashwani      CH        12016043  Bahadurgarh       Harayana\n",
       "2   Akshansh      MP        12015923     Gurugram      DeLhi-NCR\n",
       "3     Gaurav      CH        12014917      Lucknow  Uttar Pradesh\n",
       "4      Krish      SS        12018275       Jaipur      Rajasthan\n",
       "5    Sarthak      MP        12018433    Ghaziabad  Uttar Pradesh\n",
       "6       Gyan      SS        12017829     Varanasi  Uttar Pradesh"
      ]
     },
     "execution_count": 72,
     "metadata": {},
     "output_type": "execute_result"
    }
   ],
   "source": [
    "df.loc[2, ['STATE', 'CITY']] = ['DeLhi-NCR', 'Gurugram']\n",
    "df"
   ]
  },
  {
   "cell_type": "code",
   "execution_count": 73,
   "metadata": {},
   "outputs": [],
   "source": [
    "df.loc[6,'NAME'] = \"GyanSagar\""
   ]
  },
  {
   "attachments": {},
   "cell_type": "markdown",
   "metadata": {},
   "source": [
    "Another indexer (at) :- used for changing or looking up a single value (Used instead of loc for performance reason(maybe))"
   ]
  },
  {
   "cell_type": "code",
   "execution_count": 74,
   "metadata": {},
   "outputs": [],
   "source": [
    "df.at[6,'NAME'] = \"GyanSagar\""
   ]
  },
  {
   "attachments": {},
   "cell_type": "markdown",
   "metadata": {},
   "source": [
    "Changing values without using one of the indexer - a mistake done by many people as it throws an warning: [SettingWithCopyWarning]"
   ]
  },
  {
   "cell_type": "code",
   "execution_count": 75,
   "metadata": {},
   "outputs": [
    {
     "data": {
      "text/plain": [
       "6    GyanSagar\n",
       "Name: NAME, dtype: object"
      ]
     },
     "execution_count": 75,
     "metadata": {},
     "output_type": "execute_result"
    }
   ],
   "source": [
    "filt = (df['CITY']== 'Varanasi')\n",
    "df[filt]['NAME']\n",
    "#  if we try to edit it"
   ]
  },
  {
   "cell_type": "code",
   "execution_count": 76,
   "metadata": {},
   "outputs": [
    {
     "name": "stderr",
     "output_type": "stream",
     "text": [
      "C:\\Users\\Sarthak\\AppData\\Local\\Temp\\ipykernel_14884\\2415659313.py:1: SettingWithCopyWarning: \n",
      "A value is trying to be set on a copy of a slice from a DataFrame.\n",
      "Try using .loc[row_indexer,col_indexer] = value instead\n",
      "\n",
      "See the caveats in the documentation: https://pandas.pydata.org/pandas-docs/stable/user_guide/indexing.html#returning-a-view-versus-a-copy\n",
      "  df[filt]['NAME'] = \"Gyan\"\n"
     ]
    }
   ],
   "source": [
    "df[filt]['NAME'] = \"Gyan\""
   ]
  },
  {
   "cell_type": "code",
   "execution_count": 77,
   "metadata": {},
   "outputs": [
    {
     "data": {
      "text/html": [
       "<div>\n",
       "<style scoped>\n",
       "    .dataframe tbody tr th:only-of-type {\n",
       "        vertical-align: middle;\n",
       "    }\n",
       "\n",
       "    .dataframe tbody tr th {\n",
       "        vertical-align: top;\n",
       "    }\n",
       "\n",
       "    .dataframe thead th {\n",
       "        text-align: right;\n",
       "    }\n",
       "</style>\n",
       "<table border=\"1\" class=\"dataframe\">\n",
       "  <thead>\n",
       "    <tr style=\"text-align: right;\">\n",
       "      <th></th>\n",
       "      <th>NAME</th>\n",
       "      <th>SECTION</th>\n",
       "      <th>REGISTRATION_NO</th>\n",
       "      <th>CITY</th>\n",
       "      <th>STATE</th>\n",
       "    </tr>\n",
       "  </thead>\n",
       "  <tbody>\n",
       "    <tr>\n",
       "      <th>0</th>\n",
       "      <td>Ankit</td>\n",
       "      <td>CH</td>\n",
       "      <td>12018329</td>\n",
       "      <td>Fatehabad</td>\n",
       "      <td>Harayana</td>\n",
       "    </tr>\n",
       "    <tr>\n",
       "      <th>1</th>\n",
       "      <td>Ashwani</td>\n",
       "      <td>CH</td>\n",
       "      <td>12016043</td>\n",
       "      <td>Bahadurgarh</td>\n",
       "      <td>Harayana</td>\n",
       "    </tr>\n",
       "    <tr>\n",
       "      <th>2</th>\n",
       "      <td>Akshansh</td>\n",
       "      <td>MP</td>\n",
       "      <td>12015923</td>\n",
       "      <td>Gurugram</td>\n",
       "      <td>DeLhi-NCR</td>\n",
       "    </tr>\n",
       "    <tr>\n",
       "      <th>3</th>\n",
       "      <td>Gaurav</td>\n",
       "      <td>CH</td>\n",
       "      <td>12014917</td>\n",
       "      <td>Lucknow</td>\n",
       "      <td>Uttar Pradesh</td>\n",
       "    </tr>\n",
       "    <tr>\n",
       "      <th>4</th>\n",
       "      <td>Krish</td>\n",
       "      <td>SS</td>\n",
       "      <td>12018275</td>\n",
       "      <td>Jaipur</td>\n",
       "      <td>Rajasthan</td>\n",
       "    </tr>\n",
       "    <tr>\n",
       "      <th>5</th>\n",
       "      <td>Sarthak</td>\n",
       "      <td>MP</td>\n",
       "      <td>12018433</td>\n",
       "      <td>Ghaziabad</td>\n",
       "      <td>Uttar Pradesh</td>\n",
       "    </tr>\n",
       "    <tr>\n",
       "      <th>6</th>\n",
       "      <td>GyanSagar</td>\n",
       "      <td>SS</td>\n",
       "      <td>12017829</td>\n",
       "      <td>Varanasi</td>\n",
       "      <td>Uttar Pradesh</td>\n",
       "    </tr>\n",
       "  </tbody>\n",
       "</table>\n",
       "</div>"
      ],
      "text/plain": [
       "        NAME SECTION REGISTRATION_NO         CITY          STATE\n",
       "0      Ankit      CH        12018329    Fatehabad       Harayana\n",
       "1    Ashwani      CH        12016043  Bahadurgarh       Harayana\n",
       "2   Akshansh      MP        12015923     Gurugram      DeLhi-NCR\n",
       "3     Gaurav      CH        12014917      Lucknow  Uttar Pradesh\n",
       "4      Krish      SS        12018275       Jaipur      Rajasthan\n",
       "5    Sarthak      MP        12018433    Ghaziabad  Uttar Pradesh\n",
       "6  GyanSagar      SS        12017829     Varanasi  Uttar Pradesh"
      ]
     },
     "execution_count": 77,
     "metadata": {},
     "output_type": "execute_result"
    }
   ],
   "source": [
    "# The method we used above did not change the value  \n",
    "df"
   ]
  },
  {
   "attachments": {},
   "cell_type": "markdown",
   "metadata": {},
   "source": [
    "The value not changing reason is because it is getting set on a temporary object that's just getting tossed and we are trying to change the original data value with the help from it"
   ]
  },
  {
   "attachments": {},
   "cell_type": "markdown",
   "metadata": {},
   "source": [
    "Major Takewaway: use iloc and loc"
   ]
  },
  {
   "cell_type": "code",
   "execution_count": 78,
   "metadata": {},
   "outputs": [
    {
     "data": {
      "text/html": [
       "<div>\n",
       "<style scoped>\n",
       "    .dataframe tbody tr th:only-of-type {\n",
       "        vertical-align: middle;\n",
       "    }\n",
       "\n",
       "    .dataframe tbody tr th {\n",
       "        vertical-align: top;\n",
       "    }\n",
       "\n",
       "    .dataframe thead th {\n",
       "        text-align: right;\n",
       "    }\n",
       "</style>\n",
       "<table border=\"1\" class=\"dataframe\">\n",
       "  <thead>\n",
       "    <tr style=\"text-align: right;\">\n",
       "      <th></th>\n",
       "      <th>NAME</th>\n",
       "      <th>SECTION</th>\n",
       "      <th>REGISTRATION_NO</th>\n",
       "      <th>CITY</th>\n",
       "      <th>STATE</th>\n",
       "    </tr>\n",
       "  </thead>\n",
       "  <tbody>\n",
       "    <tr>\n",
       "      <th>0</th>\n",
       "      <td>Ankit</td>\n",
       "      <td>CH</td>\n",
       "      <td>12018329</td>\n",
       "      <td>fatehabad</td>\n",
       "      <td>Harayana</td>\n",
       "    </tr>\n",
       "    <tr>\n",
       "      <th>1</th>\n",
       "      <td>Ashwani</td>\n",
       "      <td>CH</td>\n",
       "      <td>12016043</td>\n",
       "      <td>bahadurgarh</td>\n",
       "      <td>Harayana</td>\n",
       "    </tr>\n",
       "    <tr>\n",
       "      <th>2</th>\n",
       "      <td>Akshansh</td>\n",
       "      <td>MP</td>\n",
       "      <td>12015923</td>\n",
       "      <td>gurugram</td>\n",
       "      <td>DeLhi-NCR</td>\n",
       "    </tr>\n",
       "    <tr>\n",
       "      <th>3</th>\n",
       "      <td>Gaurav</td>\n",
       "      <td>CH</td>\n",
       "      <td>12014917</td>\n",
       "      <td>lucknow</td>\n",
       "      <td>Uttar Pradesh</td>\n",
       "    </tr>\n",
       "    <tr>\n",
       "      <th>4</th>\n",
       "      <td>Krish</td>\n",
       "      <td>SS</td>\n",
       "      <td>12018275</td>\n",
       "      <td>jaipur</td>\n",
       "      <td>Rajasthan</td>\n",
       "    </tr>\n",
       "    <tr>\n",
       "      <th>5</th>\n",
       "      <td>Sarthak</td>\n",
       "      <td>MP</td>\n",
       "      <td>12018433</td>\n",
       "      <td>ghaziabad</td>\n",
       "      <td>Uttar Pradesh</td>\n",
       "    </tr>\n",
       "    <tr>\n",
       "      <th>6</th>\n",
       "      <td>GyanSagar</td>\n",
       "      <td>SS</td>\n",
       "      <td>12017829</td>\n",
       "      <td>varanasi</td>\n",
       "      <td>Uttar Pradesh</td>\n",
       "    </tr>\n",
       "  </tbody>\n",
       "</table>\n",
       "</div>"
      ],
      "text/plain": [
       "        NAME SECTION REGISTRATION_NO         CITY          STATE\n",
       "0      Ankit      CH        12018329    fatehabad       Harayana\n",
       "1    Ashwani      CH        12016043  bahadurgarh       Harayana\n",
       "2   Akshansh      MP        12015923     gurugram      DeLhi-NCR\n",
       "3     Gaurav      CH        12014917      lucknow  Uttar Pradesh\n",
       "4      Krish      SS        12018275       jaipur      Rajasthan\n",
       "5    Sarthak      MP        12018433    ghaziabad  Uttar Pradesh\n",
       "6  GyanSagar      SS        12017829     varanasi  Uttar Pradesh"
      ]
     },
     "execution_count": 78,
     "metadata": {},
     "output_type": "execute_result"
    }
   ],
   "source": [
    "df['CITY'] = df['CITY'].str.lower()\n",
    "df"
   ]
  },
  {
   "attachments": {},
   "cell_type": "markdown",
   "metadata": {},
   "source": [
    "#### APPLY, MAP, APPLYMAP, REPLACE"
   ]
  },
  {
   "cell_type": "code",
   "execution_count": 79,
   "metadata": {},
   "outputs": [
    {
     "data": {
      "text/plain": [
       "0    5\n",
       "1    7\n",
       "2    9\n",
       "3    6\n",
       "4    5\n",
       "5    8\n",
       "6    9\n",
       "Name: NAME, dtype: int64"
      ]
     },
     "execution_count": 79,
     "metadata": {},
     "output_type": "execute_result"
    }
   ],
   "source": [
    "#  we use apply to call a function on our values, works both for Dataframes and series\n",
    "#  aplly used on a series\n",
    "# it can apply a function to every value of the series\n",
    "\n",
    "df['NAME'].apply(len)\n",
    "\n",
    "# BUT, it does not change the values of the series so we have to equate the values"
   ]
  },
  {
   "cell_type": "code",
   "execution_count": 80,
   "metadata": {},
   "outputs": [],
   "source": [
    "def city_upper(city):\n",
    "    return city.upper()"
   ]
  },
  {
   "cell_type": "code",
   "execution_count": 81,
   "metadata": {},
   "outputs": [
    {
     "data": {
      "text/html": [
       "<div>\n",
       "<style scoped>\n",
       "    .dataframe tbody tr th:only-of-type {\n",
       "        vertical-align: middle;\n",
       "    }\n",
       "\n",
       "    .dataframe tbody tr th {\n",
       "        vertical-align: top;\n",
       "    }\n",
       "\n",
       "    .dataframe thead th {\n",
       "        text-align: right;\n",
       "    }\n",
       "</style>\n",
       "<table border=\"1\" class=\"dataframe\">\n",
       "  <thead>\n",
       "    <tr style=\"text-align: right;\">\n",
       "      <th></th>\n",
       "      <th>NAME</th>\n",
       "      <th>SECTION</th>\n",
       "      <th>REGISTRATION_NO</th>\n",
       "      <th>CITY</th>\n",
       "      <th>STATE</th>\n",
       "    </tr>\n",
       "  </thead>\n",
       "  <tbody>\n",
       "    <tr>\n",
       "      <th>0</th>\n",
       "      <td>Ankit</td>\n",
       "      <td>CH</td>\n",
       "      <td>12018329</td>\n",
       "      <td>FATEHABAD</td>\n",
       "      <td>Harayana</td>\n",
       "    </tr>\n",
       "    <tr>\n",
       "      <th>1</th>\n",
       "      <td>Ashwani</td>\n",
       "      <td>CH</td>\n",
       "      <td>12016043</td>\n",
       "      <td>BAHADURGARH</td>\n",
       "      <td>Harayana</td>\n",
       "    </tr>\n",
       "    <tr>\n",
       "      <th>2</th>\n",
       "      <td>Akshansh</td>\n",
       "      <td>MP</td>\n",
       "      <td>12015923</td>\n",
       "      <td>GURUGRAM</td>\n",
       "      <td>DeLhi-NCR</td>\n",
       "    </tr>\n",
       "    <tr>\n",
       "      <th>3</th>\n",
       "      <td>Gaurav</td>\n",
       "      <td>CH</td>\n",
       "      <td>12014917</td>\n",
       "      <td>LUCKNOW</td>\n",
       "      <td>Uttar Pradesh</td>\n",
       "    </tr>\n",
       "    <tr>\n",
       "      <th>4</th>\n",
       "      <td>Krish</td>\n",
       "      <td>SS</td>\n",
       "      <td>12018275</td>\n",
       "      <td>JAIPUR</td>\n",
       "      <td>Rajasthan</td>\n",
       "    </tr>\n",
       "    <tr>\n",
       "      <th>5</th>\n",
       "      <td>Sarthak</td>\n",
       "      <td>MP</td>\n",
       "      <td>12018433</td>\n",
       "      <td>GHAZIABAD</td>\n",
       "      <td>Uttar Pradesh</td>\n",
       "    </tr>\n",
       "    <tr>\n",
       "      <th>6</th>\n",
       "      <td>GyanSagar</td>\n",
       "      <td>SS</td>\n",
       "      <td>12017829</td>\n",
       "      <td>VARANASI</td>\n",
       "      <td>Uttar Pradesh</td>\n",
       "    </tr>\n",
       "  </tbody>\n",
       "</table>\n",
       "</div>"
      ],
      "text/plain": [
       "        NAME SECTION REGISTRATION_NO         CITY          STATE\n",
       "0      Ankit      CH        12018329    FATEHABAD       Harayana\n",
       "1    Ashwani      CH        12016043  BAHADURGARH       Harayana\n",
       "2   Akshansh      MP        12015923     GURUGRAM      DeLhi-NCR\n",
       "3     Gaurav      CH        12014917      LUCKNOW  Uttar Pradesh\n",
       "4      Krish      SS        12018275       JAIPUR      Rajasthan\n",
       "5    Sarthak      MP        12018433    GHAZIABAD  Uttar Pradesh\n",
       "6  GyanSagar      SS        12017829     VARANASI  Uttar Pradesh"
      ]
     },
     "execution_count": 81,
     "metadata": {},
     "output_type": "execute_result"
    }
   ],
   "source": [
    "df['CITY'] = df['CITY'].apply(city_upper)\n",
    "df"
   ]
  },
  {
   "cell_type": "code",
   "execution_count": 82,
   "metadata": {},
   "outputs": [
    {
     "data": {
      "text/html": [
       "<div>\n",
       "<style scoped>\n",
       "    .dataframe tbody tr th:only-of-type {\n",
       "        vertical-align: middle;\n",
       "    }\n",
       "\n",
       "    .dataframe tbody tr th {\n",
       "        vertical-align: top;\n",
       "    }\n",
       "\n",
       "    .dataframe thead th {\n",
       "        text-align: right;\n",
       "    }\n",
       "</style>\n",
       "<table border=\"1\" class=\"dataframe\">\n",
       "  <thead>\n",
       "    <tr style=\"text-align: right;\">\n",
       "      <th></th>\n",
       "      <th>NAME</th>\n",
       "      <th>SECTION</th>\n",
       "      <th>REGISTRATION_NO</th>\n",
       "      <th>CITY</th>\n",
       "      <th>STATE</th>\n",
       "    </tr>\n",
       "  </thead>\n",
       "  <tbody>\n",
       "    <tr>\n",
       "      <th>0</th>\n",
       "      <td>Ankit</td>\n",
       "      <td>CH</td>\n",
       "      <td>12018329</td>\n",
       "      <td>fatehabad</td>\n",
       "      <td>Harayana</td>\n",
       "    </tr>\n",
       "    <tr>\n",
       "      <th>1</th>\n",
       "      <td>Ashwani</td>\n",
       "      <td>CH</td>\n",
       "      <td>12016043</td>\n",
       "      <td>bahadurgarh</td>\n",
       "      <td>Harayana</td>\n",
       "    </tr>\n",
       "    <tr>\n",
       "      <th>2</th>\n",
       "      <td>Akshansh</td>\n",
       "      <td>MP</td>\n",
       "      <td>12015923</td>\n",
       "      <td>gurugram</td>\n",
       "      <td>DeLhi-NCR</td>\n",
       "    </tr>\n",
       "    <tr>\n",
       "      <th>3</th>\n",
       "      <td>Gaurav</td>\n",
       "      <td>CH</td>\n",
       "      <td>12014917</td>\n",
       "      <td>lucknow</td>\n",
       "      <td>Uttar Pradesh</td>\n",
       "    </tr>\n",
       "    <tr>\n",
       "      <th>4</th>\n",
       "      <td>Krish</td>\n",
       "      <td>SS</td>\n",
       "      <td>12018275</td>\n",
       "      <td>jaipur</td>\n",
       "      <td>Rajasthan</td>\n",
       "    </tr>\n",
       "    <tr>\n",
       "      <th>5</th>\n",
       "      <td>Sarthak</td>\n",
       "      <td>MP</td>\n",
       "      <td>12018433</td>\n",
       "      <td>ghaziabad</td>\n",
       "      <td>Uttar Pradesh</td>\n",
       "    </tr>\n",
       "    <tr>\n",
       "      <th>6</th>\n",
       "      <td>GyanSagar</td>\n",
       "      <td>SS</td>\n",
       "      <td>12017829</td>\n",
       "      <td>varanasi</td>\n",
       "      <td>Uttar Pradesh</td>\n",
       "    </tr>\n",
       "  </tbody>\n",
       "</table>\n",
       "</div>"
      ],
      "text/plain": [
       "        NAME SECTION REGISTRATION_NO         CITY          STATE\n",
       "0      Ankit      CH        12018329    fatehabad       Harayana\n",
       "1    Ashwani      CH        12016043  bahadurgarh       Harayana\n",
       "2   Akshansh      MP        12015923     gurugram      DeLhi-NCR\n",
       "3     Gaurav      CH        12014917      lucknow  Uttar Pradesh\n",
       "4      Krish      SS        12018275       jaipur      Rajasthan\n",
       "5    Sarthak      MP        12018433    ghaziabad  Uttar Pradesh\n",
       "6  GyanSagar      SS        12017829     varanasi  Uttar Pradesh"
      ]
     },
     "execution_count": 82,
     "metadata": {},
     "output_type": "execute_result"
    }
   ],
   "source": [
    "# Lambda Function\n",
    "df['CITY'] = df['CITY'].apply(lambda x : x.lower())\n",
    "df"
   ]
  },
  {
   "cell_type": "code",
   "execution_count": 83,
   "metadata": {},
   "outputs": [
    {
     "data": {
      "text/plain": [
       "NAME               7\n",
       "SECTION            7\n",
       "REGISTRATION_NO    7\n",
       "CITY               7\n",
       "STATE              7\n",
       "dtype: int64"
      ]
     },
     "execution_count": 83,
     "metadata": {},
     "output_type": "execute_result"
    }
   ],
   "source": [
    "#  Apply on a dataframe\n",
    "df.apply(len)\n",
    "\n",
    "# It runs a function on each row or column of the dataframe"
   ]
  },
  {
   "attachments": {},
   "cell_type": "markdown",
   "metadata": {},
   "source": [
    "#### Its applying a function on each of the series or columns"
   ]
  },
  {
   "cell_type": "code",
   "execution_count": 84,
   "metadata": {},
   "outputs": [
    {
     "data": {
      "text/plain": [
       "7"
      ]
     },
     "execution_count": 84,
     "metadata": {},
     "output_type": "execute_result"
    }
   ],
   "source": [
    "len(df['NAME'])"
   ]
  },
  {
   "cell_type": "code",
   "execution_count": 85,
   "metadata": {},
   "outputs": [
    {
     "data": {
      "text/plain": [
       "0    5\n",
       "1    5\n",
       "2    5\n",
       "3    5\n",
       "4    5\n",
       "5    5\n",
       "6    5\n",
       "dtype: int64"
      ]
     },
     "execution_count": 85,
     "metadata": {},
     "output_type": "execute_result"
    }
   ],
   "source": [
    "df.apply(len, axis='columns')\n",
    "# Its indicating that row 0 has 5 values and so on..."
   ]
  },
  {
   "cell_type": "code",
   "execution_count": 86,
   "metadata": {},
   "outputs": [
    {
     "data": {
      "text/plain": [
       "NAME                  Akshansh\n",
       "SECTION                     CH\n",
       "REGISTRATION_NO       12014917\n",
       "CITY               bahadurgarh\n",
       "STATE                DeLhi-NCR\n",
       "dtype: object"
      ]
     },
     "execution_count": 86,
     "metadata": {},
     "output_type": "execute_result"
    }
   ],
   "source": [
    "df.apply(pd.Series.min)\n",
    "\n",
    "# It will return all the minimum value of each series of the dataframe whether they are related or not"
   ]
  },
  {
   "attachments": {},
   "cell_type": "markdown",
   "metadata": {},
   "source": [
    "also... we can also do the same using lambda function but remember that lambda function works on the series object"
   ]
  },
  {
   "cell_type": "code",
   "execution_count": 88,
   "metadata": {},
   "outputs": [
    {
     "data": {
      "text/plain": [
       "NAME                  Akshansh\n",
       "SECTION                     CH\n",
       "REGISTRATION_NO       12014917\n",
       "CITY               bahadurgarh\n",
       "STATE                DeLhi-NCR\n",
       "dtype: object"
      ]
     },
     "execution_count": 88,
     "metadata": {},
     "output_type": "execute_result"
    }
   ],
   "source": [
    "df.apply(lambda x : x.min())\n",
    "# X here is a series and not a value"
   ]
  },
  {
   "attachments": {},
   "cell_type": "markdown",
   "metadata": {},
   "source": [
    "Q. if there is way we can apply a function to every individual element in the dataframe (just like as the series but in the whole dataset)?\n",
    "\n",
    "Ans. Yes- APPLYMAP"
   ]
  },
  {
   "cell_type": "code",
   "execution_count": 89,
   "metadata": {},
   "outputs": [
    {
     "data": {
      "text/html": [
       "<div>\n",
       "<style scoped>\n",
       "    .dataframe tbody tr th:only-of-type {\n",
       "        vertical-align: middle;\n",
       "    }\n",
       "\n",
       "    .dataframe tbody tr th {\n",
       "        vertical-align: top;\n",
       "    }\n",
       "\n",
       "    .dataframe thead th {\n",
       "        text-align: right;\n",
       "    }\n",
       "</style>\n",
       "<table border=\"1\" class=\"dataframe\">\n",
       "  <thead>\n",
       "    <tr style=\"text-align: right;\">\n",
       "      <th></th>\n",
       "      <th>NAME</th>\n",
       "      <th>SECTION</th>\n",
       "      <th>REGISTRATION_NO</th>\n",
       "      <th>CITY</th>\n",
       "      <th>STATE</th>\n",
       "    </tr>\n",
       "  </thead>\n",
       "  <tbody>\n",
       "    <tr>\n",
       "      <th>0</th>\n",
       "      <td>5</td>\n",
       "      <td>2</td>\n",
       "      <td>8</td>\n",
       "      <td>9</td>\n",
       "      <td>8</td>\n",
       "    </tr>\n",
       "    <tr>\n",
       "      <th>1</th>\n",
       "      <td>7</td>\n",
       "      <td>2</td>\n",
       "      <td>8</td>\n",
       "      <td>11</td>\n",
       "      <td>8</td>\n",
       "    </tr>\n",
       "    <tr>\n",
       "      <th>2</th>\n",
       "      <td>9</td>\n",
       "      <td>2</td>\n",
       "      <td>8</td>\n",
       "      <td>8</td>\n",
       "      <td>9</td>\n",
       "    </tr>\n",
       "    <tr>\n",
       "      <th>3</th>\n",
       "      <td>6</td>\n",
       "      <td>2</td>\n",
       "      <td>8</td>\n",
       "      <td>7</td>\n",
       "      <td>13</td>\n",
       "    </tr>\n",
       "    <tr>\n",
       "      <th>4</th>\n",
       "      <td>5</td>\n",
       "      <td>2</td>\n",
       "      <td>8</td>\n",
       "      <td>6</td>\n",
       "      <td>9</td>\n",
       "    </tr>\n",
       "    <tr>\n",
       "      <th>5</th>\n",
       "      <td>8</td>\n",
       "      <td>2</td>\n",
       "      <td>8</td>\n",
       "      <td>9</td>\n",
       "      <td>13</td>\n",
       "    </tr>\n",
       "    <tr>\n",
       "      <th>6</th>\n",
       "      <td>9</td>\n",
       "      <td>2</td>\n",
       "      <td>8</td>\n",
       "      <td>8</td>\n",
       "      <td>13</td>\n",
       "    </tr>\n",
       "  </tbody>\n",
       "</table>\n",
       "</div>"
      ],
      "text/plain": [
       "   NAME  SECTION  REGISTRATION_NO  CITY  STATE\n",
       "0     5        2                8     9      8\n",
       "1     7        2                8    11      8\n",
       "2     9        2                8     8      9\n",
       "3     6        2                8     7     13\n",
       "4     5        2                8     6      9\n",
       "5     8        2                8     9     13\n",
       "6     9        2                8     8     13"
      ]
     },
     "execution_count": 89,
     "metadata": {},
     "output_type": "execute_result"
    }
   ],
   "source": [
    "# Only works on dataframe\n",
    "df.applymap(len)"
   ]
  },
  {
   "cell_type": "code",
   "execution_count": 91,
   "metadata": {},
   "outputs": [
    {
     "data": {
      "text/html": [
       "<div>\n",
       "<style scoped>\n",
       "    .dataframe tbody tr th:only-of-type {\n",
       "        vertical-align: middle;\n",
       "    }\n",
       "\n",
       "    .dataframe tbody tr th {\n",
       "        vertical-align: top;\n",
       "    }\n",
       "\n",
       "    .dataframe thead th {\n",
       "        text-align: right;\n",
       "    }\n",
       "</style>\n",
       "<table border=\"1\" class=\"dataframe\">\n",
       "  <thead>\n",
       "    <tr style=\"text-align: right;\">\n",
       "      <th></th>\n",
       "      <th>NAME</th>\n",
       "      <th>SECTION</th>\n",
       "      <th>REGISTRATION_NO</th>\n",
       "      <th>CITY</th>\n",
       "      <th>STATE</th>\n",
       "    </tr>\n",
       "  </thead>\n",
       "  <tbody>\n",
       "    <tr>\n",
       "      <th>0</th>\n",
       "      <td>ankit</td>\n",
       "      <td>ch</td>\n",
       "      <td>12018329</td>\n",
       "      <td>fatehabad</td>\n",
       "      <td>harayana</td>\n",
       "    </tr>\n",
       "    <tr>\n",
       "      <th>1</th>\n",
       "      <td>ashwani</td>\n",
       "      <td>ch</td>\n",
       "      <td>12016043</td>\n",
       "      <td>bahadurgarh</td>\n",
       "      <td>harayana</td>\n",
       "    </tr>\n",
       "    <tr>\n",
       "      <th>2</th>\n",
       "      <td>akshansh</td>\n",
       "      <td>mp</td>\n",
       "      <td>12015923</td>\n",
       "      <td>gurugram</td>\n",
       "      <td>delhi-ncr</td>\n",
       "    </tr>\n",
       "    <tr>\n",
       "      <th>3</th>\n",
       "      <td>gaurav</td>\n",
       "      <td>ch</td>\n",
       "      <td>12014917</td>\n",
       "      <td>lucknow</td>\n",
       "      <td>uttar pradesh</td>\n",
       "    </tr>\n",
       "    <tr>\n",
       "      <th>4</th>\n",
       "      <td>krish</td>\n",
       "      <td>ss</td>\n",
       "      <td>12018275</td>\n",
       "      <td>jaipur</td>\n",
       "      <td>rajasthan</td>\n",
       "    </tr>\n",
       "    <tr>\n",
       "      <th>5</th>\n",
       "      <td>sarthak</td>\n",
       "      <td>mp</td>\n",
       "      <td>12018433</td>\n",
       "      <td>ghaziabad</td>\n",
       "      <td>uttar pradesh</td>\n",
       "    </tr>\n",
       "    <tr>\n",
       "      <th>6</th>\n",
       "      <td>gyansagar</td>\n",
       "      <td>ss</td>\n",
       "      <td>12017829</td>\n",
       "      <td>varanasi</td>\n",
       "      <td>uttar pradesh</td>\n",
       "    </tr>\n",
       "  </tbody>\n",
       "</table>\n",
       "</div>"
      ],
      "text/plain": [
       "        NAME SECTION REGISTRATION_NO         CITY          STATE\n",
       "0      ankit      ch        12018329    fatehabad       harayana\n",
       "1    ashwani      ch        12016043  bahadurgarh       harayana\n",
       "2   akshansh      mp        12015923     gurugram      delhi-ncr\n",
       "3     gaurav      ch        12014917      lucknow  uttar pradesh\n",
       "4      krish      ss        12018275       jaipur      rajasthan\n",
       "5    sarthak      mp        12018433    ghaziabad  uttar pradesh\n",
       "6  gyansagar      ss        12017829     varanasi  uttar pradesh"
      ]
     },
     "execution_count": 91,
     "metadata": {},
     "output_type": "execute_result"
    }
   ],
   "source": [
    "df.applymap(str.lower)"
   ]
  },
  {
   "attachments": {},
   "cell_type": "markdown",
   "metadata": {},
   "source": [
    "#### Now for MAP, a MAP method works only for the series used for substituting each value in the series with another value"
   ]
  },
  {
   "cell_type": "code",
   "execution_count": 100,
   "metadata": {},
   "outputs": [
    {
     "data": {
      "text/plain": [
       "0    Anky\n",
       "1    Ashu\n",
       "2     NaN\n",
       "3     NaN\n",
       "4     NaN\n",
       "5     NaN\n",
       "6     NaN\n",
       "Name: NAME, dtype: object"
      ]
     },
     "execution_count": 100,
     "metadata": {},
     "output_type": "execute_result"
    }
   ],
   "source": [
    "df['NAME'].map({'Ankit': 'Anky', 'Ashwani' : 'Ashu'})\n",
    "#  the value which were not in the dictionary were converted to NaN values"
   ]
  },
  {
   "attachments": {},
   "cell_type": "markdown",
   "metadata": {},
   "source": [
    "But if wanted to change only the specified value in dict and not the rest we should use 'REPLACE' method"
   ]
  },
  {
   "cell_type": "code",
   "execution_count": 101,
   "metadata": {},
   "outputs": [
    {
     "data": {
      "text/plain": [
       "0         Anky\n",
       "1         Ashu\n",
       "2     Akshansh\n",
       "3       Gaurav\n",
       "4        Krish\n",
       "5      Sarthak\n",
       "6    GyanSagar\n",
       "Name: NAME, dtype: object"
      ]
     },
     "execution_count": 101,
     "metadata": {},
     "output_type": "execute_result"
    }
   ],
   "source": [
    "df['NAME'].replace({'Ankit': 'Anky', 'Ashwani' : 'Ashu'})\n",
    "\n",
    "# if we wanted to set this to actual column we will use: \n",
    "# df['NAME'] = df['NAME'].replace({'Ankit': 'Anky', 'Ashwani' : 'Ashu'})"
   ]
  }
 ],
 "metadata": {
  "kernelspec": {
   "display_name": "Python 3",
   "language": "python",
   "name": "python3"
  },
  "language_info": {
   "codemirror_mode": {
    "name": "ipython",
    "version": 3
   },
   "file_extension": ".py",
   "mimetype": "text/x-python",
   "name": "python",
   "nbconvert_exporter": "python",
   "pygments_lexer": "ipython3",
   "version": "3.10.6"
  },
  "orig_nbformat": 4
 },
 "nbformat": 4,
 "nbformat_minor": 2
}
